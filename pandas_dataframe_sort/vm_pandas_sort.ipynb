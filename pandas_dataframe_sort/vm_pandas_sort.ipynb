{
 "cells": [
  {
   "cell_type": "markdown",
   "metadata": {},
   "source": [
    "# data sort sample\n",
    "sort artificial data(10GB) on 1 node with pandas. "
   ]
  },
  {
   "cell_type": "code",
   "execution_count": 1,
   "metadata": {},
   "outputs": [],
   "source": [
    "import numpy as np\n",
    "import csv"
   ]
  },
  {
   "cell_type": "code",
   "execution_count": 2,
   "metadata": {},
   "outputs": [],
   "source": [
    "import os, uuid, sys\n",
    "from azure.storage.blob import BlockBlobService, PublicAccess\n",
    "\n",
    "block_blob_service = BlockBlobService(account_name='artificialdatastorage', account_key='/enKgvgod8Mk5cdhFlWfGrc1A/Ho73kn5LSjPUdMxS4Aj731FW0Fkmrw1qqa+Lay2uCkbVGkBO0vK3NZv6GB6g==')"
   ]
  },
  {
   "cell_type": "markdown",
   "metadata": {},
   "source": [
    " ## import data from blob\n"
   ]
  },
  {
   "cell_type": "code",
   "execution_count": 3,
   "metadata": {},
   "outputs": [
    {
     "data": {
      "text/plain": [
       "<azure.storage.blob.models.ResourceProperties at 0x7fc08c65c6a0>"
      ]
     },
     "execution_count": 3,
     "metadata": {},
     "output_type": "execute_result"
    }
   ],
   "source": [
    "container_name ='10gbdata'\n",
    "block_blob_service.create_container(container_name) \n",
    "block_blob_service.set_container_acl(container_name, public_access=PublicAccess.Container)"
   ]
  },
  {
   "cell_type": "code",
   "execution_count": 4,
   "metadata": {},
   "outputs": [
    {
     "data": {
      "text/plain": [
       "<azure.storage.blob.models.Blob at 0x7fc08c65c9b0>"
      ]
     },
     "execution_count": 4,
     "metadata": {},
     "output_type": "execute_result"
    }
   ],
   "source": [
    "local_path=os.path.expanduser(\"/data/home/shunta_ito/notebooks/\")\n",
    "local_file_name =\"data.csv\"\n",
    "full_path_to_file =os.path.join(local_path, local_file_name)\n",
    "block_blob_service.get_blob_to_path(container_name, local_file_name, full_path_to_file)"
   ]
  },
  {
   "cell_type": "code",
   "execution_count": 8,
   "metadata": {},
   "outputs": [],
   "source": [
    "import pandas as pd\n",
    "df = pd.read_csv(local_path+local_file_name, header=None)"
   ]
  },
  {
   "cell_type": "code",
   "execution_count": 9,
   "metadata": {},
   "outputs": [
    {
     "data": {
      "text/html": [
       "<div>\n",
       "<style scoped>\n",
       "    .dataframe tbody tr th:only-of-type {\n",
       "        vertical-align: middle;\n",
       "    }\n",
       "\n",
       "    .dataframe tbody tr th {\n",
       "        vertical-align: top;\n",
       "    }\n",
       "\n",
       "    .dataframe thead th {\n",
       "        text-align: right;\n",
       "    }\n",
       "</style>\n",
       "<table border=\"1\" class=\"dataframe\">\n",
       "  <thead>\n",
       "    <tr style=\"text-align: right;\">\n",
       "      <th></th>\n",
       "      <th>0</th>\n",
       "      <th>1</th>\n",
       "      <th>2</th>\n",
       "    </tr>\n",
       "  </thead>\n",
       "  <tbody>\n",
       "    <tr>\n",
       "      <th>0</th>\n",
       "      <td>0.820748</td>\n",
       "      <td>-1.296383</td>\n",
       "      <td>13.766871</td>\n",
       "    </tr>\n",
       "    <tr>\n",
       "      <th>1</th>\n",
       "      <td>0.128321</td>\n",
       "      <td>0.453930</td>\n",
       "      <td>11.354876</td>\n",
       "    </tr>\n",
       "    <tr>\n",
       "      <th>2</th>\n",
       "      <td>0.793233</td>\n",
       "      <td>-0.694416</td>\n",
       "      <td>15.829050</td>\n",
       "    </tr>\n",
       "    <tr>\n",
       "      <th>3</th>\n",
       "      <td>0.311961</td>\n",
       "      <td>-1.496938</td>\n",
       "      <td>2.161980</td>\n",
       "    </tr>\n",
       "    <tr>\n",
       "      <th>4</th>\n",
       "      <td>0.822525</td>\n",
       "      <td>-0.037315</td>\n",
       "      <td>10.242189</td>\n",
       "    </tr>\n",
       "    <tr>\n",
       "      <th>5</th>\n",
       "      <td>0.073289</td>\n",
       "      <td>1.026127</td>\n",
       "      <td>-6.058050</td>\n",
       "    </tr>\n",
       "    <tr>\n",
       "      <th>6</th>\n",
       "      <td>0.501971</td>\n",
       "      <td>-0.429586</td>\n",
       "      <td>1.531646</td>\n",
       "    </tr>\n",
       "    <tr>\n",
       "      <th>7</th>\n",
       "      <td>0.027251</td>\n",
       "      <td>0.561317</td>\n",
       "      <td>15.198982</td>\n",
       "    </tr>\n",
       "    <tr>\n",
       "      <th>8</th>\n",
       "      <td>0.270286</td>\n",
       "      <td>0.540662</td>\n",
       "      <td>-1.825294</td>\n",
       "    </tr>\n",
       "    <tr>\n",
       "      <th>9</th>\n",
       "      <td>0.397897</td>\n",
       "      <td>-0.398349</td>\n",
       "      <td>-0.147753</td>\n",
       "    </tr>\n",
       "  </tbody>\n",
       "</table>\n",
       "</div>"
      ],
      "text/plain": [
       "          0         1          2\n",
       "0  0.820748 -1.296383  13.766871\n",
       "1  0.128321  0.453930  11.354876\n",
       "2  0.793233 -0.694416  15.829050\n",
       "3  0.311961 -1.496938   2.161980\n",
       "4  0.822525 -0.037315  10.242189\n",
       "5  0.073289  1.026127  -6.058050\n",
       "6  0.501971 -0.429586   1.531646\n",
       "7  0.027251  0.561317  15.198982\n",
       "8  0.270286  0.540662  -1.825294\n",
       "9  0.397897 -0.398349  -0.147753"
      ]
     },
     "execution_count": 9,
     "metadata": {},
     "output_type": "execute_result"
    }
   ],
   "source": [
    "df.head(10)"
   ]
  },
  {
   "cell_type": "markdown",
   "metadata": {},
   "source": [
    "## sort"
   ]
  },
  {
   "cell_type": "code",
   "execution_count": 10,
   "metadata": {},
   "outputs": [
    {
     "name": "stdout",
     "output_type": "stream",
     "text": [
      "processing time:191.78454041481018\n"
     ]
    }
   ],
   "source": [
    "import time\n",
    "\n",
    "start = time.time()\n",
    "df.sort_values(0, ascending=False)\n",
    "df.sort_values(1, ascending=False)\n",
    "df.sort_values(2, ascending=False)\n",
    "process_time = time.time() - start\n",
    "\n",
    "print(\"processing time:\"+str(process_time))"
   ]
  },
  {
   "cell_type": "code",
   "execution_count": null,
   "metadata": {},
   "outputs": [],
   "source": []
  }
 ],
 "metadata": {
  "kernelspec": {
   "display_name": "Python 3.5",
   "language": "python",
   "name": "python3"
  },
  "language_info": {
   "codemirror_mode": {
    "name": "ipython",
    "version": 3
   },
   "file_extension": ".py",
   "mimetype": "text/x-python",
   "name": "python",
   "nbconvert_exporter": "python",
   "pygments_lexer": "ipython3",
   "version": "3.5.5"
  }
 },
 "nbformat": 4,
 "nbformat_minor": 2
}
