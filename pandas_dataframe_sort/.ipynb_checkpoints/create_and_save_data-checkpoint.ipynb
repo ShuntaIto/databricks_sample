{
 "cells": [
  {
   "cell_type": "code",
   "execution_count": 4,
   "metadata": {},
   "outputs": [],
   "source": [
    "import numpy as np\n",
    "import csv"
   ]
  },
  {
   "cell_type": "code",
   "execution_count": 5,
   "metadata": {},
   "outputs": [],
   "source": [
    "data = []\n",
    "\n",
    "data_num = 10000/563 * 1024*1024*10 #だいたい10GBぐらい\n",
    "\n",
    "for i in range(int(data_num)):\n",
    "    datum = []\n",
    "    a = np.random.rand()\n",
    "    b = np.random.randn()　\n",
    "    c = np.random.normal(10,10)  \n",
    "    datum.append(a)\n",
    "    datum.append(b)\n",
    "    datum.append(c)\n",
    "    data.append(datum)\n",
    "    if i % 100000 == 0:\n",
    "        with open('data.csv', 'a') as f:\n",
    "            writer = csv.writer(f, lineterminator='\\n')\n",
    "            writer.writerows(data)\n",
    "        data = []\n",
    "with open('data.csv', 'a') as f:\n",
    "            writer = csv.writer(f, lineterminator='\\n')\n",
    "            writer.writerows(data)"
   ]
  },
  {
   "cell_type": "code",
   "execution_count": 9,
   "metadata": {},
   "outputs": [],
   "source": [
    "import os, uuid, sys\n",
    "from azure.storage.blob import BlockBlobService, PublicAccess\n",
    "\n",
    "block_blob_service = BlockBlobService(account_name='artificialdatastorage', account_key='/enKgvgod8Mk5cdhFlWfGrc1A/Ho73kn5LSjPUdMxS4Aj731FW0Fkmrw1qqa+Lay2uCkbVGkBO0vK3NZv6GB6g==') "
   ]
  },
  {
   "cell_type": "code",
   "execution_count": 10,
   "metadata": {},
   "outputs": [
    {
     "data": {
      "text/plain": [
       "<azure.storage.blob.models.ResourceProperties at 0x7f0e33dc9828>"
      ]
     },
     "execution_count": 10,
     "metadata": {},
     "output_type": "execute_result"
    }
   ],
   "source": [
    "container_name ='10gbdata'\n",
    "block_blob_service.create_container(container_name) \n",
    "block_blob_service.set_container_acl(container_name, public_access=PublicAccess.Container)"
   ]
  },
  {
   "cell_type": "code",
   "execution_count": 11,
   "metadata": {},
   "outputs": [
    {
     "name": "stdout",
     "output_type": "stream",
     "text": [
      "Temp file = /data/home/shunta_ito/notebooks/make_image/convnet-drawer/data.csv\n",
      "\n",
      "Uploading to Blob storage as blobdata.csv\n"
     ]
    },
    {
     "data": {
      "text/plain": [
       "<azure.storage.blob.models.ResourceProperties at 0x7f0e33ddf208>"
      ]
     },
     "execution_count": 11,
     "metadata": {},
     "output_type": "execute_result"
    }
   ],
   "source": [
    "local_path=os.path.expanduser(\"/data/home/shunta_ito/notebooks/make_image/convnet-drawer/\")\n",
    "local_file_name =\"data.csv\"\n",
    "full_path_to_file =os.path.join(local_path, local_file_name)\n",
    "\n",
    "print(\"Temp file = \" + full_path_to_file)\n",
    "print(\"\\nUploading to Blob storage as blob:\" + local_file_name)\n",
    "\n",
    "block_blob_service.create_blob_from_path(container_name, local_file_name, full_path_to_file)"
   ]
  },
  {
   "cell_type": "code",
   "execution_count": null,
   "metadata": {},
   "outputs": [],
   "source": []
  }
 ],
 "metadata": {
  "kernelspec": {
   "display_name": "Python 3.5",
   "language": "python",
   "name": "python3"
  },
  "language_info": {
   "codemirror_mode": {
    "name": "ipython",
    "version": 3
   },
   "file_extension": ".py",
   "mimetype": "text/x-python",
   "name": "python",
   "nbconvert_exporter": "python",
   "pygments_lexer": "ipython3",
   "version": "3.5.5"
  }
 },
 "nbformat": 4,
 "nbformat_minor": 2
}
