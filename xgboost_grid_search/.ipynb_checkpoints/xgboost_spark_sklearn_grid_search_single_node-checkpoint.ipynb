{
 "cells": [
  {
   "cell_type": "markdown",
   "metadata": {},
   "source": [
    "# xgboost parameter tuning sample\n",
    "grid search the best xgboost regression parameter on 1 node."
   ]
  },
  {
   "cell_type": "code",
   "execution_count": null,
   "metadata": {},
   "outputs": [],
   "source": [
    "import pandas as pd\n",
    "import xgboost as xgb\n",
    "from sklearn.metrics import mean_squared_error\n",
    "import numpy as np\n",
    "from sklearn.model_selection import GridSearchCV # gridsearchcv from sklearn\n",
    "import time"
   ]
  },
  {
   "cell_type": "markdown",
   "metadata": {},
   "source": [
    "## import data from blob"
   ]
  },
  {
   "cell_type": "code",
   "execution_count": null,
   "metadata": {},
   "outputs": [],
   "source": [
    "import os, uuid, sys\n",
    "from azure.storage.blob import BlockBlobService, PublicAccess\n",
    "\n",
    "block_blob_service = BlockBlobService(account_name='artificialdatastorage', account_key='/enKgvgod8Mk5cdhFlWfGrc1A/Ho73kn5LSjPUdMxS4Aj731FW0Fkmrw1qqa+Lay2uCkbVGkBO0vK3NZv6GB6g==')\n",
    "\n",
    "container_name ='housedata'\n",
    "block_blob_service.create_container(container_name) \n",
    "block_blob_service.set_container_acl(container_name, public_access=PublicAccess.Container)\n",
    "\n",
    "local_path=os.path.expanduser(\"/data/home/shunta_ito/notebooks/sample/xgboost_grid_search/\")\n",
    "local_file_name =\"housedata.csv\"\n",
    "full_path_to_file =os.path.join(local_path, local_file_name)\n",
    "block_blob_service.get_blob_to_path(container_name, local_file_name, full_path_to_file)"
   ]
  },
  {
   "cell_type": "code",
   "execution_count": null,
   "metadata": {},
   "outputs": [],
   "source": [
    "housedata = pd.read_csv(local_path+local_file_name)"
   ]
  },
  {
   "cell_type": "code",
   "execution_count": null,
   "metadata": {},
   "outputs": [],
   "source": [
    "housedata.head(5)"
   ]
  },
  {
   "cell_type": "code",
   "execution_count": null,
   "metadata": {},
   "outputs": [],
   "source": [
    "housedata = housedata.drop(\"Unnamed: 0\",axis=1)\n",
    "housedata.head(3)\n",
    "X, y = housedata.iloc[:,1:],housedata.iloc[:,0]\n",
    "X = X.astype(\"float64\")\n",
    "y = y.astype(\"float64\")\n",
    "X.head(3)"
   ]
  },
  {
   "cell_type": "code",
   "execution_count": null,
   "metadata": {},
   "outputs": [],
   "source": [
    "from sklearn.model_selection import train_test_split\n",
    "X_train, X_test, y_train, y_test = train_test_split(X, y, test_size=0.3, random_state=123)"
   ]
  },
  {
   "cell_type": "markdown",
   "metadata": {},
   "source": [
    "## prepare parameter dictionary\n",
    "\n",
    "key: parameter name demanded by model\n",
    "value: parameter list"
   ]
  },
  {
   "cell_type": "code",
   "execution_count": null,
   "metadata": {},
   "outputs": [],
   "source": [
    "alphas = []\n",
    "for order in range(-4,2,1):\n",
    "    for num in range(1,10,2):\n",
    "        alphas.append(num*(10**order))\n",
    "\n",
    "n_ests = []\n",
    "for est in range(10,50,5):\n",
    "    n_ests.append(est)\n",
    "\n",
    "l2_weights = []\n",
    "for order in range(-2,2,1):\n",
    "    for num in range(1,10,2):\n",
    "        l2_weights.append(num*(10**order))"
   ]
  },
  {
   "cell_type": "code",
   "execution_count": null,
   "metadata": {},
   "outputs": [],
   "source": [
    "parameters = {\"reg_alpha\":alphas, \"n_estimators\":n_ests,  \"reg_lambda\":l2_weights}"
   ]
  },
  {
   "cell_type": "markdown",
   "metadata": {},
   "source": [
    "## fit"
   ]
  },
  {
   "cell_type": "code",
   "execution_count": null,
   "metadata": {},
   "outputs": [],
   "source": [
    "xgb_reg = xgb.XGBRegressor(colsample_bytree = 0.3, learning_rate = 0.1, max_depth = 30)\n",
    "grid = GridSearchCV(xgb_reg, parameters,n_jobs=-1)\n",
    "\n",
    "start = time.time()\n",
    "grid.fit(X_train, y_train)\n",
    "process_time = time.time() - start\n",
    "\n",
    "print(\"processing time:\"+str(process_time))"
   ]
  },
  {
   "cell_type": "markdown",
   "metadata": {},
   "source": [
    "## result"
   ]
  },
  {
   "cell_type": "code",
   "execution_count": null,
   "metadata": {},
   "outputs": [],
   "source": [
    "print(\"best_score:\"+str(grid.best_estimator_.score(X_test,y_test)))\n",
    "print(grid.cv_results_[\"params\"][grid.best_index_])"
   ]
  },
  {
   "cell_type": "code",
   "execution_count": null,
   "metadata": {},
   "outputs": [],
   "source": [
    "s = str(process_time)\n",
    "\n",
    "with open(\"result.txt\", mode='w') as f:\n",
    "    f.write(s)"
   ]
  },
  {
   "cell_type": "code",
   "execution_count": null,
   "metadata": {},
   "outputs": [],
   "source": []
  }
 ],
 "metadata": {
  "kernelspec": {
   "display_name": "Python 3.5",
   "language": "python",
   "name": "python3"
  },
  "language_info": {
   "codemirror_mode": {
    "name": "ipython",
    "version": 3
   },
   "file_extension": ".py",
   "mimetype": "text/x-python",
   "name": "python",
   "nbconvert_exporter": "python",
   "pygments_lexer": "ipython3",
   "version": "3.5.5"
  },
  "name": "dist_XGBoost_easy_sample",
  "notebookId": 1388713783410748
 },
 "nbformat": 4,
 "nbformat_minor": 2
}
